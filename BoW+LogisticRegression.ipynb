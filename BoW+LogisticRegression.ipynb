{
 "cells": [
  {
   "cell_type": "code",
   "execution_count": null,
   "metadata": {},
   "outputs": [],
   "source": [
    "# Parameters\n",
    "input_csv_file = \"poc/data/data_train.csv\"\n",
    "C_list = [.1, 1.0]\n",
    "max_features_list = [500, 1500, 3000]\n",
    "random_state=0"
   ]
  },
  {
   "cell_type": "code",
   "execution_count": null,
   "metadata": {},
   "outputs": [],
   "source": [
    "import pandas as pd\n",
    "import numpy as np\n",
    "from sklearn.feature_extraction.text import CountVectorizer\n",
    "from sklearn.linear_model import LogisticRegression\n",
    "from sklearn.pipeline import Pipeline\n",
    "from sklearn.model_selection import cross_validate, RepeatedStratifiedKFold\n",
    "import mlflow\n",
    "from itertools import product"
   ]
  },
  {
   "cell_type": "code",
   "execution_count": null,
   "metadata": {},
   "outputs": [],
   "source": [
    "df = pd.read_csv(input_csv_file).dropna()"
   ]
  },
  {
   "cell_type": "code",
   "execution_count": null,
   "metadata": {},
   "outputs": [],
   "source": [
    "def log_results(d):\n",
    "    for metrics, values in d.items():\n",
    "        mlflow.log_metric(metrics + '_avg', values.mean())\n",
    "        mlflow.log_metric(metrics + '_std', values.std())"
   ]
  },
  {
   "cell_type": "code",
   "execution_count": null,
   "metadata": {},
   "outputs": [],
   "source": [
    "for C, max_features in product(C_list, max_features_list):\n",
    "    with mlflow.start_run():\n",
    "        mlflow.log_param('C', C)\n",
    "        mlflow.log_param('max_features', max_features)\n",
    "        classifier = LogisticRegression(C=C,\n",
    "                                        solver='lbfgs',\n",
    "                                        multi_class='multinomial')\n",
    "        vectorizer = CountVectorizer(max_features=max_features,\n",
    "                                     stop_words='english')\n",
    "        pipeline = Pipeline([('vectorizer', vectorizer),\n",
    "                         (classifier.__repr__().split('(')[0], classifier)])\n",
    "        d = cross_validate(pipeline, \n",
    "                           X=df['data'], \n",
    "                           y=df['target'],\n",
    "                           scoring=['accuracy', 'precision_macro', 'f1_micro', 'f1_macro'],\n",
    "                           cv=RepeatedStratifiedKFold(n_splits=5, n_repeats=3, random_state=random_state))\n",
    "        log_results(d)\n",
    "        \n",
    "    "
   ]
  },
  {
   "cell_type": "code",
   "execution_count": null,
   "metadata": {},
   "outputs": [],
   "source": []
  }
 ],
 "metadata": {
  "kernelspec": {
   "display_name": "Python [conda env:poc_ml_versioning]",
   "language": "python",
   "name": "conda-env-poc_ml_versioning-py"
  },
  "language_info": {
   "codemirror_mode": {
    "name": "ipython",
    "version": 3
   },
   "file_extension": ".py",
   "mimetype": "text/x-python",
   "name": "python",
   "nbconvert_exporter": "python",
   "pygments_lexer": "ipython3",
   "version": "3.7.0"
  }
 },
 "nbformat": 4,
 "nbformat_minor": 2
}
