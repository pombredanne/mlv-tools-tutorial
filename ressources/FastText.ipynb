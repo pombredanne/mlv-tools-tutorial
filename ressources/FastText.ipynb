{
 "cells": [
  {
   "cell_type": "code",
   "execution_count": null,
   "metadata": {},
   "outputs": [],
   "source": [
    "# Parameters\n",
    "\"\"\"\n",
    ":param input_csv_file str: Path to input file\n",
    ":param model_path str: Path to model files\n",
    ":param mode str: training or evaluation\n",
    "\"\"\"\n",
    "input_csv_file = \"data/data_train_tokenized.csv\"\n",
    "model_path = 'data/fasttext_model'"
   ]
  },
  {
   "cell_type": "code",
   "execution_count": null,
   "metadata": {},
   "outputs": [],
   "source": [
    "import pandas as pd\n",
    "import numpy as np\n",
    "from nltk import ngrams\n",
    "from pyfasttext import FastText\n",
    "import tempfile\n",
    "import os"
   ]
  },
  {
   "cell_type": "code",
   "execution_count": null,
   "metadata": {},
   "outputs": [],
   "source": [
    "df = pd.read_csv(input_csv_file)"
   ]
  },
  {
   "cell_type": "code",
   "execution_count": null,
   "metadata": {},
   "outputs": [],
   "source": [
    "import json\n",
    "df['data'] = df['data'].apply(lambda s: json.loads(s.replace(\"'\", '\"')))"
   ]
  },
  {
   "cell_type": "code",
   "execution_count": null,
   "metadata": {},
   "outputs": [],
   "source": [
    "trigrams_set = [(label, trigram) \n",
    "                for (label, words) in df[['targetnames', 'data']].itertuples(index=False, name=None)\n",
    "                if len(words) >= 3\n",
    "                for trigram in ngrams(words, 3)]"
   ]
  },
  {
   "cell_type": "code",
   "execution_count": null,
   "metadata": {},
   "outputs": [],
   "source": [
    "with tempfile.TemporaryDirectory() as tmp_dir:\n",
    "    tmp_path = os.path.join(tmp_dir, 'trigrams')\n",
    "    with open(tmp_path, 'w') as f:\n",
    "        for label, words in trigrams_set:\n",
    "            f.write('__label__{} {}\\n'.format(label, ' '.join(words)))\n",
    "\n",
    "    model = FastText()\n",
    "    model.supervised(input=tmp_path, output=model_path, epoch=10, lr=0.7)"
   ]
  },
  {
   "cell_type": "code",
   "execution_count": null,
   "metadata": {},
   "outputs": [],
   "source": []
  }
 ],
 "metadata": {
  "kernelspec": {
   "display_name": "Python [conda env:poc_ml_versioning]",
   "language": "python",
   "name": "conda-env-poc_ml_versioning-py"
  },
  "language_info": {
   "codemirror_mode": {
    "name": "ipython",
    "version": 3
   },
   "file_extension": ".py",
   "mimetype": "text/x-python",
   "name": "python",
   "nbconvert_exporter": "python",
   "pygments_lexer": "ipython3",
   "version": "3.7.0"
  }
 },
 "nbformat": 4,
 "nbformat_minor": 2
}
