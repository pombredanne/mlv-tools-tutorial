{
 "cells": [
  {
   "cell_type": "code",
   "execution_count": null,
   "metadata": {},
   "outputs": [],
   "source": [
    "# Parameters\n",
    "\"\"\"\n",
    ":param str input_csv_file: Path to input file\n",
    ":param str model_path: Path to model files\n",
    ":param float learning_rate: Learning rate\n",
    ":param int epochs: Number of epochs\n",
    ":dvc-cmd: dvc run -d ./data/data_train_tokenized.csv  -o ./data/fasttext_model.bin ./scripts/python/classify --learning-rate 0.7 --epochs 10 --input-csv-file ./data/data_train_tokenized.csv  --model-path  ./data/fasttext_model \n",
    "\"\"\"\n",
    "input_csv_file = \"data/data_train_tokenized.csv\"\n",
    "model_path = 'data/fasttext_model'\n",
    "learning_rate = .7\n",
    "epochs = 10"
   ]
  },
  {
   "cell_type": "code",
   "execution_count": null,
   "metadata": {},
   "outputs": [],
   "source": [
    "import pandas as pd\n",
    "import numpy as np\n",
    "from nltk import ngrams\n",
    "from pyfasttext import FastText\n",
    "import tempfile\n",
    "import os"
   ]
  },
  {
   "cell_type": "code",
   "execution_count": null,
   "metadata": {},
   "outputs": [],
   "source": [
    "df = pd.read_csv(input_csv_file)"
   ]
  },
  {
   "cell_type": "code",
   "execution_count": null,
   "metadata": {},
   "outputs": [],
   "source": [
    "import json\n",
    "df['data'] = df['data'].apply(lambda s: json.loads(s.replace(\"'\", '\"')))"
   ]
  },
  {
   "cell_type": "code",
   "execution_count": null,
   "metadata": {},
   "outputs": [],
   "source": [
    "trigrams_set = [(label, trigram) \n",
    "                for (label, words) in df[['targetnames', 'data']].itertuples(index=False, name=None)\n",
    "                if len(words) >= 3\n",
    "                for trigram in ngrams(words, 3)]"
   ]
  },
  {
   "cell_type": "code",
   "execution_count": null,
   "metadata": {},
   "outputs": [],
   "source": [
    "with tempfile.TemporaryDirectory() as tmp_dir:\n",
    "    tmp_path = os.path.join(tmp_dir, 'trigrams')\n",
    "    with open(tmp_path, 'w') as f:\n",
    "        for label, words in trigrams_set:\n",
    "            f.write('__label__{} {}\\n'.format(label, ' '.join(words)))\n",
    "\n",
    "    model = FastText()\n",
    "    model.supervised(input=tmp_path, output=model_path, epoch=epochs, lr=learning_rate)"
   ]
  },
  {
   "cell_type": "code",
   "execution_count": null,
   "metadata": {},
   "outputs": [],
   "source": []
  }
 ],
 "metadata": {
  "kernelspec": {
   "display_name": "Python [conda env:poc_ml_versioning]",
   "language": "python",
   "name": "conda-env-poc_ml_versioning-py"
  },
  "language_info": {
   "codemirror_mode": {
    "name": "ipython",
    "version": 3
   },
   "file_extension": ".py",
   "mimetype": "text/x-python",
   "name": "python",
   "nbconvert_exporter": "python",
   "pygments_lexer": "ipython3",
   "version": "3.7.0"
  }
 },
 "nbformat": 4,
 "nbformat_minor": 2
}
